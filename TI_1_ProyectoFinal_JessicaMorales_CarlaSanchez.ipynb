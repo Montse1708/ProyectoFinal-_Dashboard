{
  "nbformat": 4,
  "nbformat_minor": 0,
  "metadata": {
    "colab": {
      "provenance": [],
      "authorship_tag": "ABX9TyN6RI5zsULxsqJ0/eNcoHYL",
      "include_colab_link": true
    },
    "kernelspec": {
      "name": "python3",
      "display_name": "Python 3"
    },
    "language_info": {
      "name": "python"
    }
  },
  "cells": [
    {
      "cell_type": "markdown",
      "metadata": {
        "id": "view-in-github",
        "colab_type": "text"
      },
      "source": [
        "<a href=\"https://colab.research.google.com/github/Montse1708/ProyectoFinal_Dashboard/blob/main/TI_1_ProyectoFinal_JessicaMorales_CarlaSanchez.ipynb\" target=\"_parent\"><img src=\"https://colab.research.google.com/assets/colab-badge.svg\" alt=\"Open In Colab\"/></a>"
      ]
    },
    {
      "cell_type": "markdown",
      "source": [
        "#Proyecto Final\n",
        "\n",
        "##Integrantes:\n",
        "* **Nombre:** Jessica Montserrat Morales Enrique  \n",
        "* **e-mail:** jessica.morales5556@alumnos.udg.mx\n",
        "\n",
        "- **Nombre:** Carla Georgina Sánchez Arreguín\n",
        "- **email:** carla.sanchez2472@alumnos.udg.mx"
      ],
      "metadata": {
        "id": "ogagnOnMQ9oV"
      }
    },
    {
      "cell_type": "code",
      "execution_count": null,
      "metadata": {
        "id": "ES6vGyGmPsGd"
      },
      "outputs": [],
      "source": []
    }
  ]
}