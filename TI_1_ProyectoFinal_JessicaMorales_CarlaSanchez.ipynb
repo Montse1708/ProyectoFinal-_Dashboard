{
  "nbformat": 4,
  "nbformat_minor": 0,
  "metadata": {
    "colab": {
      "provenance": [],
      "include_colab_link": true
    },
    "kernelspec": {
      "name": "python3",
      "display_name": "Python 3"
    },
    "language_info": {
      "name": "python"
    }
  },
  "cells": [
    {
      "cell_type": "markdown",
      "metadata": {
        "id": "view-in-github",
        "colab_type": "text"
      },
      "source": [
        "<a href=\"https://colab.research.google.com/github/Montse1708/ProyectoFinal_Dashboard/blob/main/TI_1_ProyectoFinal_JessicaMorales_CarlaSanchez.ipynb\" target=\"_parent\"><img src=\"https://colab.research.google.com/assets/colab-badge.svg\" alt=\"Open In Colab\"/></a>"
      ]
    },
    {
      "cell_type": "markdown",
      "source": [
        "#**Proyecto Final**\n",
        "\n",
        "##Integrantes:\n",
        "* **Nombre:** Jessica Montserrat Morales Enrique  \n",
        "* **e-mail:** jessica.morales5556@alumnos.udg.mx\n",
        "\n",
        "- **Nombre:** Carla Georgina Sánchez Arreguín\n",
        "- **email:** carla.sanchez2472@alumnos.udg.mx"
      ],
      "metadata": {
        "id": "ogagnOnMQ9oV"
      }
    },
    {
      "cell_type": "markdown",
      "source": [
        "#MODULES"
      ],
      "metadata": {
        "id": "PWEjzGBMXuXY"
      }
    },
    {
      "cell_type": "markdown",
      "source": [
        "##Install modules"
      ],
      "metadata": {
        "id": "0_hbDSCeaIas"
      }
    },
    {
      "cell_type": "code",
      "source": [
        "pip install unidecode"
      ],
      "metadata": {
        "colab": {
          "base_uri": "https://localhost:8080/"
        },
        "id": "HT3G74lLaPZ5",
        "outputId": "602b7a26-2b05-400a-da57-893a78e89704"
      },
      "execution_count": 2,
      "outputs": [
        {
          "output_type": "stream",
          "name": "stdout",
          "text": [
            "Collecting unidecode\n",
            "  Downloading Unidecode-1.3.8-py3-none-any.whl (235 kB)\n",
            "\u001b[2K     \u001b[90m━━━━━━━━━━━━━━━━━━━━━━━━━━━━━━━━━━━━━━━━\u001b[0m \u001b[32m235.5/235.5 kB\u001b[0m \u001b[31m2.5 MB/s\u001b[0m eta \u001b[36m0:00:00\u001b[0m\n",
            "\u001b[?25hInstalling collected packages: unidecode\n",
            "Successfully installed unidecode-1.3.8\n"
          ]
        }
      ]
    },
    {
      "cell_type": "code",
      "execution_count": 3,
      "metadata": {
        "id": "ES6vGyGmPsGd"
      },
      "outputs": [],
      "source": [
        "import numpy as np\n",
        "import pandas as pd\n",
        "import math\n",
        "import geopandas as gpd\n",
        "import folium\n",
        "import panel as pn\n",
        "import panel.widgets as pnw\n",
        "from unidecode import unidecode"
      ]
    },
    {
      "cell_type": "markdown",
      "source": [
        "#DATASET"
      ],
      "metadata": {
        "id": "6-oRca0sQdN6"
      }
    },
    {
      "cell_type": "markdown",
      "source": [
        "##Dataset de COVID en México"
      ],
      "metadata": {
        "id": "HDeJ8DiiQkr0"
      }
    },
    {
      "cell_type": "markdown",
      "source": [
        "###Dataset almacenado en link"
      ],
      "metadata": {
        "id": "66OUSqVSl4m5"
      }
    },
    {
      "cell_type": "code",
      "source": [
        "#Cargar los datos del archivo CSV\n",
        "#En el siguiente link se encuentra los datos almacenados\n",
        "url = 'https://raw.githubusercontent.com/marianarf/covid19_mexico_analysis/master/mexico_covid19.csv'\n",
        "df = pd.read_csv(url)"
      ],
      "metadata": {
        "id": "C432Y_reQgFV"
      },
      "execution_count": 4,
      "outputs": []
    },
    {
      "cell_type": "markdown",
      "source": [
        "###Dataset descargado de Kaggle\n"
      ],
      "metadata": {
        "id": "wx4caI7-mdJH"
      }
    },
    {
      "cell_type": "code",
      "source": [
        "#Cargar el dataset con los datos\n",
        "#Link del repositorio en Kaggle: https://www.kaggle.com/datasets/marianarfranklin/mexico-covid19-clinical-data?resource=download\n",
        "df = pd.read_csv('/content/mexico_covid19.csv')"
      ],
      "metadata": {
        "id": "1haZRl1wmr_i"
      },
      "execution_count": 6,
      "outputs": []
    },
    {
      "cell_type": "markdown",
      "source": [
        "##GeoJSON de los límites de los estados de México"
      ],
      "metadata": {
        "id": "MAjJjDb-peyg"
      }
    },
    {
      "cell_type": "code",
      "source": [
        "# Descargar el archivo GeoJSON de los límites de México\n",
        "geojson_url = 'https://raw.githubusercontent.com/angelnmara/geojson/master/mexicoHigh.json'\n",
        "mexico_map = gpd.read_file(geojson_url)"
      ],
      "metadata": {
        "id": "HV2F5X7drKvy"
      },
      "execution_count": 7,
      "outputs": []
    },
    {
      "cell_type": "markdown",
      "source": [
        "#MOSTRAR MAPA"
      ],
      "metadata": {
        "id": "2vu93melvpZ2"
      }
    },
    {
      "cell_type": "code",
      "source": [
        "# Quitar acentos\n",
        "mexico_map['name'] = mexico_map['name'].apply(unidecode)\n",
        "\n",
        "# Calcular el total de casos por estado(ENTIDAD)\n",
        "total_casos_por_estado = df.groupby('ENTIDAD').size().reset_index(name='total_casos')"
      ],
      "metadata": {
        "id": "0DRQmSYxvxsJ"
      },
      "execution_count": 8,
      "outputs": []
    }
  ]
}